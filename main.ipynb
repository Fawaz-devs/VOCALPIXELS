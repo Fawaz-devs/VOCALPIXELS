{
 "cells": [
  {
   "cell_type": "code",
   "execution_count": 1,
   "metadata": {},
   "outputs": [
    {
     "name": "stdout",
     "output_type": "stream",
     "text": [
      "Note: you may need to restart the kernel to use updated packages.\n"
     ]
    },
    {
     "name": "stderr",
     "output_type": "stream",
     "text": [
      "WARNING: Retrying (Retry(total=4, connect=None, read=None, redirect=None, status=None)) after connection broken by 'NewConnectionError('<pip._vendor.urllib3.connection.HTTPSConnection object at 0x000002410FC68170>: Failed to establish a new connection: [Errno 11001] getaddrinfo failed')': /simple/diffusers/\n",
      "WARNING: Retrying (Retry(total=3, connect=None, read=None, redirect=None, status=None)) after connection broken by 'NewConnectionError('<pip._vendor.urllib3.connection.HTTPSConnection object at 0x000002410EBAC980>: Failed to establish a new connection: [Errno 11001] getaddrinfo failed')': /simple/diffusers/\n",
      "WARNING: Retrying (Retry(total=2, connect=None, read=None, redirect=None, status=None)) after connection broken by 'NewConnectionError('<pip._vendor.urllib3.connection.HTTPSConnection object at 0x0000024110026000>: Failed to establish a new connection: [Errno 11001] getaddrinfo failed')': /simple/diffusers/\n",
      "WARNING: Retrying (Retry(total=1, connect=None, read=None, redirect=None, status=None)) after connection broken by 'NewConnectionError('<pip._vendor.urllib3.connection.HTTPSConnection object at 0x0000024110027E30>: Failed to establish a new connection: [Errno 11001] getaddrinfo failed')': /simple/diffusers/\n",
      "WARNING: Retrying (Retry(total=0, connect=None, read=None, redirect=None, status=None)) after connection broken by 'NewConnectionError('<pip._vendor.urllib3.connection.HTTPSConnection object at 0x0000024110026150>: Failed to establish a new connection: [Errno 11001] getaddrinfo failed')': /simple/diffusers/\n",
      "ERROR: Could not find a version that satisfies the requirement diffusers (from versions: none)\n",
      "ERROR: No matching distribution found for diffusers\n"
     ]
    },
    {
     "name": "stdout",
     "output_type": "stream",
     "text": [
      "Note: you may need to restart the kernel to use updated packages.\n"
     ]
    },
    {
     "name": "stderr",
     "output_type": "stream",
     "text": [
      "  error: subprocess-exited-with-error\n",
      "  \n",
      "  × git clone --filter=blob:none --quiet https://github.com/huggingface/diffusers 'C:\\Users\\samee\\AppData\\Local\\Temp\\pip-req-build-w2n29f90' did not run successfully.\n",
      "  │ exit code: 128\n",
      "  ╰─> [1 lines of output]\n",
      "      fatal: unable to access 'https://github.com/huggingface/diffusers/': Could not resolve host: github.com\n",
      "      [end of output]\n",
      "  \n",
      "  note: This error originates from a subprocess, and is likely not a problem with pip.\n",
      "error: subprocess-exited-with-error\n",
      "\n",
      "× git clone --filter=blob:none --quiet https://github.com/huggingface/diffusers 'C:\\Users\\samee\\AppData\\Local\\Temp\\pip-req-build-w2n29f90' did not run successfully.\n",
      "│ exit code: 128\n",
      "╰─> See above for output.\n",
      "\n",
      "note: This error originates from a subprocess, and is likely not a problem with pip.\n"
     ]
    },
    {
     "name": "stdout",
     "output_type": "stream",
     "text": [
      "Note: you may need to restart the kernel to use updated packages.\n"
     ]
    },
    {
     "name": "stderr",
     "output_type": "stream",
     "text": [
      "WARNING: Retrying (Retry(total=4, connect=None, read=None, redirect=None, status=None)) after connection broken by 'NewConnectionError('<pip._vendor.urllib3.connection.HTTPSConnection object at 0x00000232C4D5AED0>: Failed to establish a new connection: [Errno 11001] getaddrinfo failed')': /simple/ipywidgets/\n",
      "WARNING: Retrying (Retry(total=3, connect=None, read=None, redirect=None, status=None)) after connection broken by 'NewConnectionError('<pip._vendor.urllib3.connection.HTTPSConnection object at 0x00000232C5043F50>: Failed to establish a new connection: [Errno 11001] getaddrinfo failed')': /simple/ipywidgets/\n",
      "WARNING: Retrying (Retry(total=2, connect=None, read=None, redirect=None, status=None)) after connection broken by 'NewConnectionError('<pip._vendor.urllib3.connection.HTTPSConnection object at 0x00000232C505C170>: Failed to establish a new connection: [Errno 11001] getaddrinfo failed')': /simple/ipywidgets/\n",
      "WARNING: Retrying (Retry(total=1, connect=None, read=None, redirect=None, status=None)) after connection broken by 'NewConnectionError('<pip._vendor.urllib3.connection.HTTPSConnection object at 0x00000232C505CAD0>: Failed to establish a new connection: [Errno 11001] getaddrinfo failed')': /simple/ipywidgets/\n",
      "WARNING: Retrying (Retry(total=0, connect=None, read=None, redirect=None, status=None)) after connection broken by 'NewConnectionError('<pip._vendor.urllib3.connection.HTTPSConnection object at 0x00000232C505C860>: Failed to establish a new connection: [Errno 11001] getaddrinfo failed')': /simple/ipywidgets/\n",
      "ERROR: Could not find a version that satisfies the requirement ipywidgets (from versions: none)\n",
      "ERROR: No matching distribution found for ipywidgets\n"
     ]
    },
    {
     "name": "stdout",
     "output_type": "stream",
     "text": [
      "Note: you may need to restart the kernel to use updated packages.\n"
     ]
    },
    {
     "name": "stderr",
     "output_type": "stream",
     "text": [
      "WARNING: Retrying (Retry(total=4, connect=None, read=None, redirect=None, status=None)) after connection broken by 'NewConnectionError('<pip._vendor.urllib3.connection.HTTPSConnection object at 0x0000024B35302E40>: Failed to establish a new connection: [Errno 11001] getaddrinfo failed')': /simple/invisible-watermark/\n",
      "WARNING: Retrying (Retry(total=3, connect=None, read=None, redirect=None, status=None)) after connection broken by 'NewConnectionError('<pip._vendor.urllib3.connection.HTTPSConnection object at 0x0000024B35F2ADB0>: Failed to establish a new connection: [Errno 11001] getaddrinfo failed')': /simple/invisible-watermark/\n",
      "WARNING: Retrying (Retry(total=2, connect=None, read=None, redirect=None, status=None)) after connection broken by 'NewConnectionError('<pip._vendor.urllib3.connection.HTTPSConnection object at 0x0000024B3622CA70>: Failed to establish a new connection: [Errno 11001] getaddrinfo failed')': /simple/invisible-watermark/\n",
      "WARNING: Retrying (Retry(total=1, connect=None, read=None, redirect=None, status=None)) after connection broken by 'NewConnectionError('<pip._vendor.urllib3.connection.HTTPSConnection object at 0x0000024B3622C2F0>: Failed to establish a new connection: [Errno 11001] getaddrinfo failed')': /simple/invisible-watermark/\n",
      "WARNING: Retrying (Retry(total=0, connect=None, read=None, redirect=None, status=None)) after connection broken by 'NewConnectionError('<pip._vendor.urllib3.connection.HTTPSConnection object at 0x0000024B3622DBB0>: Failed to establish a new connection: [Errno 11001] getaddrinfo failed')': /simple/invisible-watermark/\n",
      "ERROR: Could not find a version that satisfies the requirement invisible_watermark (from versions: none)\n",
      "ERROR: No matching distribution found for invisible_watermark\n"
     ]
    }
   ],
   "source": [
    "%pip install diffusers hugchat transformers accelerate safetensors --upgrade -q\n",
    "%pip install git+https://github.com/huggingface/diffusers -q\n",
    "%pip install ipywidgets -q\n",
    "%pip install invisible_watermark -q\n"
   ]
  },
  {
   "cell_type": "code",
   "execution_count": 2,
   "metadata": {},
   "outputs": [
    {
     "name": "stderr",
     "output_type": "stream",
     "text": [
      "c:\\Python312\\Lib\\site-packages\\tqdm\\auto.py:21: TqdmWarning: IProgress not found. Please update jupyter and ipywidgets. See https://ipywidgets.readthedocs.io/en/stable/user_install.html\n",
      "  from .autonotebook import tqdm as notebook_tqdm\n"
     ]
    }
   ],
   "source": [
    "from transformers import pipeline\n",
    "from ipywidgets import interactive, widgets\n",
    "from IPython.display import HTML, Javascript, Image, display\n",
    "from google.colab.output import eval_js\n",
    "import base64\n",
    "from diffusers import StableDiffusionXLPipeline\n",
    "import torch"
   ]
  }
 ],
 "metadata": {
  "kernelspec": {
   "display_name": "Python 3",
   "language": "python",
   "name": "python3"
  },
  "language_info": {
   "codemirror_mode": {
    "name": "ipython",
    "version": 3
   },
   "file_extension": ".py",
   "mimetype": "text/x-python",
   "name": "python",
   "nbconvert_exporter": "python",
   "pygments_lexer": "ipython3",
   "version": "3.12.0"
  },
  "orig_nbformat": 4
 },
 "nbformat": 4,
 "nbformat_minor": 2
}
